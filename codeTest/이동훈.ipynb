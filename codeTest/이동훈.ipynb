{
 "cells": [
  {
   "attachments": {},
   "cell_type": "markdown",
   "metadata": {},
   "source": [
    "## 1번"
   ]
  },
  {
   "cell_type": "code",
   "execution_count": 81,
   "metadata": {},
   "outputs": [
    {
     "name": "stdout",
     "output_type": "stream",
     "text": [
      "원의 넓이 : 12.566368\n"
     ]
    }
   ],
   "source": [
    "num = int(input('반지름을 입력하시오 : '))\n",
    "area = num*num*3.141592\n",
    "print(f'원의 넓이 : {area}')"
   ]
  },
  {
   "attachments": {},
   "cell_type": "markdown",
   "metadata": {},
   "source": [
    "## 2번"
   ]
  },
  {
   "cell_type": "code",
   "execution_count": 82,
   "metadata": {},
   "outputs": [
    {
     "name": "stdout",
     "output_type": "stream",
     "text": [
      "금성\n"
     ]
    }
   ],
   "source": [
    "plakor = ['수성', '금성', '지구', '화성', '목성', '토성', '천왕성', '해왕성']\n",
    "planet = input('행성이름[Mercury, Venus, Earth, Mars, Jupiter,  Saturn, Uranus, Neptune] : ')\n",
    "\n",
    "if planet == 'Mercury':\n",
    "    print(f'{plakor[0]}')\n",
    "elif planet == 'Venus':\n",
    "    print(f'{plakor[1]}')\n",
    "elif planet == 'Earth':\n",
    "    print(f'{plakor[2]}')\n",
    "elif planet == 'Mars':\n",
    "    print(f'{plakor[3]}')\n",
    "elif planet == 'Jupiter':\n",
    "    print(f'{plakor[4]}')\n",
    "elif planet == 'Saturn':\n",
    "    print(f'{plakor[5]}')\n",
    "elif planet == 'Uranus':\n",
    "    print(f'{plakor[6]}')\n",
    "elif planet == 'Neptune':\n",
    "    print(f'{plakor[7]}')\n",
    "else:\n",
    "    pass"
   ]
  },
  {
   "attachments": {},
   "cell_type": "markdown",
   "metadata": {},
   "source": [
    "## 3번"
   ]
  },
  {
   "cell_type": "code",
   "execution_count": 1,
   "metadata": {},
   "outputs": [
    {
     "name": "stdout",
     "output_type": "stream",
     "text": [
      "I'm going to leave the door open = 7\n",
      "I'm GOING to LEAVE the DOOR open\n"
     ]
    }
   ],
   "source": [
    "arr = input('문자열을 입력하시오 : ')\n",
    "\n",
    "print(f'{arr} = {len(arr.split())}')\n",
    "\n",
    "arr = arr.split()\n",
    "for i in range(len(arr)):\n",
    "    if i % 2 == 1:\n",
    "        arr[i] = arr[i].upper()\n",
    "\n",
    "print(\" \".join(arr))"
   ]
  },
  {
   "attachments": {},
   "cell_type": "markdown",
   "metadata": {},
   "source": [
    "## 4번"
   ]
  },
  {
   "cell_type": "code",
   "execution_count": 1,
   "metadata": {},
   "outputs": [
    {
     "name": "stdout",
     "output_type": "stream",
     "text": [
      "1 2 3 4 5 --> 5 4 3 2 1\n"
     ]
    }
   ],
   "source": [
    "num = input('수를 입력하시오 : ')\n",
    "rev =''\n",
    "for i in num:\n",
    "    rev = i + rev\n",
    "print(f'{num} --> {rev}')"
   ]
  },
  {
   "attachments": {},
   "cell_type": "markdown",
   "metadata": {},
   "source": [
    "## 5번"
   ]
  },
  {
   "cell_type": "code",
   "execution_count": 85,
   "metadata": {},
   "outputs": [
    {
     "name": "stdout",
     "output_type": "stream",
     "text": [
      "5 -->  5  10  15  20  25  30  35  40  45 "
     ]
    }
   ],
   "source": [
    "gugu = int(input('원하는 단을 입력하시오 : '))\n",
    "print(f'{gugu} -->', end=' ')\n",
    "for y in range (1,10):\n",
    "    print(f' {gugu*y}', end = ' ')"
   ]
  },
  {
   "cell_type": "markdown",
   "metadata": {},
   "source": []
  }
 ],
 "metadata": {
  "kernelspec": {
   "display_name": "Python 3",
   "language": "python",
   "name": "python3"
  },
  "language_info": {
   "codemirror_mode": {
    "name": "ipython",
    "version": 3
   },
   "file_extension": ".py",
   "mimetype": "text/x-python",
   "name": "python",
   "nbconvert_exporter": "python",
   "pygments_lexer": "ipython3",
   "version": "3.11.1"
  },
  "orig_nbformat": 4,
  "vscode": {
   "interpreter": {
    "hash": "a3d8f53f1429d27b792a3789224562ddd32c1395c9a9cfbb17b3c19c3b9a493d"
   }
  }
 },
 "nbformat": 4,
 "nbformat_minor": 2
}
