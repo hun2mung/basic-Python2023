{
 "cells": [
  {
   "cell_type": "code",
   "execution_count": 2,
   "metadata": {},
   "outputs": [
    {
     "name": "stdout",
     "output_type": "stream",
     "text": [
      "원의 넓이는 28.274333882308138 입니다.\n"
     ]
    }
   ],
   "source": [
    "# 1번 문제\n",
    "# 반지름 값을 입력받아 원의 넓이를 구하여 출력하는 프로그램을 구현하세요. π는 3.141592 입니다. 모듈을 사용하여도 됩니다~!!\n",
    "\n",
    "import math\n",
    "\n",
    "radius = int(input('반지름을 입력하세요'))\n",
    "\n",
    "print(f'원의 넓이는 {math.pi * radius * radius:.4f} 입니다.')"
   ]
  },
  {
   "cell_type": "code",
   "execution_count": 3,
   "metadata": {},
   "outputs": [
    {
     "name": "stdout",
     "output_type": "stream",
     "text": [
      "수성\n"
     ]
    }
   ],
   "source": [
    "# 2번 문제 \n",
    "# 태양계는 수성, 금성, 지구, 화성, 목성, 토성, 천왕성, 해왕성으로 구성됩니다. \n",
    "# 영어 이름은 Mercury, Venus, Earth, Mars, Jupiter,  Saturn, Uranus, Neptune 입니다.  \n",
    "# 행성의 영어 이름을 입력하면 한글 행성 이름이 출력 되는 프로그램을 구현하세요.\n",
    "\n",
    "solar = {'Mercury' : '수성', 'Venus' : '금성', 'Earth' : '지구', 'Mars' : '화성', \n",
    "        'Jupiter' : '목성', 'Saturn' : '토성', 'Uranus' : '천왕성', 'Neptune' : '해왕성'}\n",
    "\n",
    "planet = input('행성이름(영어) 입력하세요 > ')\n",
    "try:\n",
    "    print(f'{planet}은 {solar[planet]}입니다.')\n",
    "except:\n",
    "    print('찾는 행성이 없습니다')"
   ]
  },
  {
   "cell_type": "code",
   "execution_count": 6,
   "metadata": {},
   "outputs": [
    {
     "name": "stdout",
     "output_type": "stream",
     "text": [
      "0 / "
     ]
    }
   ],
   "source": [
    "# 3번 문제\n",
    "# 입력한 영어 문자열의 단어의 수를 출력하고 입력된 단어를 짝수로 대문자로 변경하여 출력하는 프로그램을 구현하세요.\n",
    "\n",
    "sentance = input('연어 문장을 입력하세요')\n",
    "\n",
    "words = sentance.split()\n",
    "print(len(words), end =' / ')\n",
    "\n",
    "for i, word in enumerate(words):\n",
    "    if (i+1) % 2 == 0 :\n",
    "        print(word.upper(), end = ' ')\n",
    "    else :\n",
    "        print(word, end = ' ')"
   ]
  },
  {
   "cell_type": "code",
   "execution_count": 9,
   "metadata": {},
   "outputs": [],
   "source": [
    "# 4번 문제\n",
    "# 입력한 수를 거꾸로 출력하는 프로그램을 구현하세요.\n",
    "\n",
    "numbers = list(map(int, input('수를 여러 개 입력하세요').split()))\n",
    "\n",
    "for i in numbers:\n",
    "    print(i, end = ' ')\n",
    "\n",
    "print('-->', end = '')\n",
    "numbers.reverse()\n",
    "\n",
    "for i in numbers:\n",
    "    print(i, end = ' ')"
   ]
  },
  {
   "cell_type": "code",
   "execution_count": 10,
   "metadata": {},
   "outputs": [
    {
     "name": "stdout",
     "output_type": "stream",
     "text": [
      "3 --> 3 6 9 12 15 18 21 24 27 "
     ]
    }
   ],
   "source": [
    "# 5번 문제\n",
    "# 구구단을 수행할 단번호를 입력하면 그 단의 9까지의 결과를 나열하는 프로그램을 입력하세요.\n",
    "\n",
    "number = int(input('구구단 단 입력 > '))\n",
    "\n",
    "print(f'{number} --> ', end = '')\n",
    "\n",
    "for i in range(1, 10):\n",
    "    print(f'{number*i}', end = ' ')\n"
   ]
  }
 ],
 "metadata": {
  "kernelspec": {
   "display_name": "venv",
   "language": "python",
   "name": "python3"
  },
  "language_info": {
   "codemirror_mode": {
    "name": "ipython",
    "version": 3
   },
   "file_extension": ".py",
   "mimetype": "text/x-python",
   "name": "python",
   "nbconvert_exporter": "python",
   "pygments_lexer": "ipython3",
   "version": "3.11.1"
  },
  "orig_nbformat": 4,
  "vscode": {
   "interpreter": {
    "hash": "1732cc55dde7803caebda0df0f1738cc035ced225322b7cf344f368c2c40d995"
   }
  }
 },
 "nbformat": 4,
 "nbformat_minor": 2
}
